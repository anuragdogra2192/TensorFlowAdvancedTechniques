{
 "cells": [
  {
   "cell_type": "markdown",
   "metadata": {
    "id": "C4Y03ZD2-imD"
   },
   "source": [
    "# Ungraded Lab: Fast Neural Style Transfer\n",
    "\n",
    "This lab will demonstrate [Fast Neural Style Transfer](https://arxiv.org/abs/1705.06830). Instead of implementing it yourself, you will download an available [model from Tensorflow Hub](https://tfhub.dev/google/magenta/arbitrary-image-stylization-v1-256/2) and apply it to the images you used in the previous lab."
   ]
  },
  {
   "cell_type": "markdown",
   "metadata": {
    "id": "OXWF1akL_Q74"
   },
   "source": [
    "## Imports"
   ]
  },
  {
   "cell_type": "code",
   "execution_count": 1,
   "metadata": {
    "id": "T0F5oBr-O8RH"
   },
   "outputs": [],
   "source": [
    "try:\n",
    "  # %tensorflow_version only exists in Colab.\n",
    "  %tensorflow_version 2.x\n",
    "except Exception:\n",
    "  pass\n",
    "  \n",
    "import tensorflow as tf\n",
    "import tensorflow_hub as hub\n",
    "\n",
    "import matplotlib.pyplot as plt"
   ]
  },
  {
   "cell_type": "markdown",
   "metadata": {
    "id": "svuuU-Iu_Ske"
   },
   "source": [
    "## Utilities"
   ]
  },
  {
   "cell_type": "code",
   "execution_count": 2,
   "metadata": {
    "id": "tMcuZs-UPS-D"
   },
   "outputs": [],
   "source": [
    "def tensor_to_image(tensor):\n",
    "  '''converts a tensor to an image'''\n",
    "  tensor_shape = tf.shape(tensor)\n",
    "  number_elem_shape = tf.shape(tensor_shape)\n",
    "  if number_elem_shape > 3:\n",
    "    assert tensor_shape[0] == 1\n",
    "    tensor = tensor[0]\n",
    "  return tf.keras.preprocessing.image.array_to_img(tensor) \n",
    "\n",
    "\n",
    "def load_img(path_to_img):\n",
    "  '''loads an image as a tensor and scales it to 512 pixels'''\n",
    "  max_dim = 512\n",
    "  image = tf.io.read_file(path_to_img)\n",
    "  image = tf.image.decode_jpeg(image)\n",
    "  image = tf.image.convert_image_dtype(image, tf.float32)\n",
    "\n",
    "  shape = tf.shape(image)[:-1]\n",
    "  shape = tf.cast(tf.shape(image)[:-1], tf.float32)\n",
    "  long_dim = max(shape)\n",
    "  scale = max_dim / long_dim\n",
    "\n",
    "  new_shape = tf.cast(shape * scale, tf.int32)\n",
    "\n",
    "  image = tf.image.resize(image, new_shape)\n",
    "  image = image[tf.newaxis, :]\n",
    "  image = tf.image.convert_image_dtype(image, tf.uint8)\n",
    "\n",
    "  return image\n",
    "\n",
    "\n",
    "def load_images(content_path, style_path):\n",
    "  '''loads the content and path images as tensors'''\n",
    "  content_image = load_img(\"{}\".format(content_path))\n",
    "  style_image = load_img(\"{}\".format(style_path))\n",
    "\n",
    "  return content_image, style_image\n",
    "\n",
    "\n",
    "def imshow(image, title=None):\n",
    "  '''displays an image with a corresponding title'''\n",
    "  if len(image.shape) > 3:\n",
    "    image = tf.squeeze(image, axis=0)\n",
    "\n",
    "  plt.imshow(image)\n",
    "  if title:\n",
    "    plt.title(title)\n",
    "    \n",
    "    \n",
    "def show_images_with_objects(images, titles=[]):\n",
    "  '''displays a row of images with corresponding titles'''\n",
    "  if len(images) != len(titles):\n",
    "    return\n",
    "\n",
    "  plt.figure(figsize=(20, 12))\n",
    "  for idx, (image, title) in enumerate(zip(images, titles)):\n",
    "    plt.subplot(1, len(images), idx + 1)\n",
    "    plt.xticks([])\n",
    "    plt.yticks([])\n",
    "    imshow(image, title)\n"
   ]
  },
  {
   "cell_type": "markdown",
   "metadata": {
    "id": "HztDrMKr_UqP"
   },
   "source": [
    "## Download the images"
   ]
  },
  {
   "cell_type": "code",
   "execution_count": 49,
   "metadata": {
    "colab": {
     "base_uri": "https://localhost:8080/"
    },
    "id": "e6oK104fPEjd",
    "outputId": "361ba9d4-b631-4ca1-961c-ae708ede4c00"
   },
   "outputs": [
    {
     "name": "stdout",
     "output_type": "stream",
     "text": [
      "mkdir: cannot create directory ‘images’: File exists\n",
      "image files you can choose from: \n",
      "cafe.jpg      painting2.jpg  rudolph.jpg    swan.jpg\n",
      "dynamite.jpg  painting.jpg   sasidhar2.jpg  tnj.jpg\n"
     ]
    }
   ],
   "source": [
    "IMAGE_DIR = 'images'\n",
    "\n",
    "# create directory\n",
    "!mkdir {IMAGE_DIR}\n",
    "\n",
    "# download images to the directory you just created\n",
    "!wget -q -O ./images/cafe.jpg https://cdn.pixabay.com/photo/2018/07/14/15/27/cafe-3537801_1280.jpg\n",
    "!wget -q -O ./images/swan.jpg https://cdn.pixabay.com/photo/2017/02/28/23/00/swan-2107052_1280.jpg\n",
    "!wget -q -O ./images/tnj.jpg https://i.dawn.com/large/2019/10/5db6a03a4c7e3.jpg\n",
    "!wget -q -O ./images/rudolph.jpg https://cdn.pixabay.com/photo/2015/09/22/12/21/rudolph-951494_1280.jpg\n",
    "!wget -q -O ./images/dynamite.jpg https://cdn.pixabay.com/photo/2015/10/13/02/59/animals-985500_1280.jpg\n",
    "!wget -q -O ./images/painting.jpg https://storage.googleapis.com/download.tensorflow.org/example_images/Vassily_Kandinsky%2C_1913_-_Composition_7.jpg\n",
    "\n",
    "\n",
    "\n",
    "\n",
    "\n",
    "print(\"image files you can choose from: \")\n",
    "!ls images"
   ]
  },
  {
   "cell_type": "code",
   "execution_count": 75,
   "metadata": {
    "id": "oOc6MutBVDm0"
   },
   "outputs": [],
   "source": [
    "# set default images\n",
    "content_path = f'{IMAGE_DIR}/tnj.jpg'\n",
    "style_path = f'{IMAGE_DIR}/painting.jpg'"
   ]
  },
  {
   "cell_type": "code",
   "execution_count": 1,
   "metadata": {
    "colab": {
     "base_uri": "https://localhost:8080/",
     "height": 383
    },
    "id": "z3bBdTScVJ2p",
    "outputId": "57bbd161-fb01-4b45-be36-248dd3231c0a"
   },
   "outputs": [
    {
     "ename": "NameError",
     "evalue": "name 'load_images' is not defined",
     "output_type": "error",
     "traceback": [
      "\u001b[1;31m---------------------------------------------------------------------------\u001b[0m",
      "\u001b[1;31mNameError\u001b[0m                                 Traceback (most recent call last)",
      "\u001b[1;32m<ipython-input-1-413b313cc93b>\u001b[0m in \u001b[0;36m<module>\u001b[1;34m\u001b[0m\n\u001b[0;32m      1\u001b[0m \u001b[1;31m# display the content and style image\u001b[0m\u001b[1;33m\u001b[0m\u001b[1;33m\u001b[0m\u001b[1;33m\u001b[0m\u001b[0m\n\u001b[1;32m----> 2\u001b[1;33m \u001b[0mcontent_image\u001b[0m\u001b[1;33m,\u001b[0m \u001b[0mstyle_image\u001b[0m \u001b[1;33m=\u001b[0m \u001b[0mload_images\u001b[0m\u001b[1;33m(\u001b[0m\u001b[0mcontent_path\u001b[0m\u001b[1;33m,\u001b[0m \u001b[0mstyle_path\u001b[0m\u001b[1;33m)\u001b[0m\u001b[1;33m\u001b[0m\u001b[1;33m\u001b[0m\u001b[0m\n\u001b[0m\u001b[0;32m      3\u001b[0m show_images_with_objects([content_image, style_image], \n\u001b[0;32m      4\u001b[0m                          titles=[f'content image: {content_path}',\n\u001b[0;32m      5\u001b[0m                                  f'style image: {style_path}'])\n",
      "\u001b[1;31mNameError\u001b[0m: name 'load_images' is not defined"
     ]
    }
   ],
   "source": [
    "# display the content and style image\n",
    "content_image, style_image = load_images(content_path, style_path)\n",
    "show_images_with_objects([content_image, style_image], \n",
    "                         titles=[f'content image: {content_path}',\n",
    "                                 f'style image: {style_path}'])"
   ]
  },
  {
   "cell_type": "markdown",
   "metadata": {
    "id": "1VdZ7Jss_cVU"
   },
   "source": [
    "## Download the model"
   ]
  },
  {
   "cell_type": "code",
   "execution_count": 62,
   "metadata": {
    "id": "DKDdv4j_O2lj"
   },
   "outputs": [],
   "source": [
    "# this will take a few minutes to load\n",
    "hub_module = hub.load('https://tfhub.dev/google/magenta/arbitrary-image-stylization-v1-256/2')"
   ]
  },
  {
   "cell_type": "markdown",
   "metadata": {
    "id": "6qgCFIWR_hyx"
   },
   "source": [
    "## Stylize the content image"
   ]
  },
  {
   "cell_type": "code",
   "execution_count": 2,
   "metadata": {
    "colab": {
     "base_uri": "https://localhost:8080/",
     "height": 305
    },
    "id": "KlvkoZ-2_Nqo",
    "outputId": "4acf1dab-c05d-47e8-f583-bf5371fe205e"
   },
   "outputs": [
    {
     "ename": "NameError",
     "evalue": "name 'hub_module' is not defined",
     "output_type": "error",
     "traceback": [
      "\u001b[1;31m---------------------------------------------------------------------------\u001b[0m",
      "\u001b[1;31mNameError\u001b[0m                                 Traceback (most recent call last)",
      "\u001b[1;32m<ipython-input-2-abb6ba2babbd>\u001b[0m in \u001b[0;36m<module>\u001b[1;34m\u001b[0m\n\u001b[0;32m      1\u001b[0m \u001b[1;31m# stylize the image using the model you just downloaded\u001b[0m\u001b[1;33m\u001b[0m\u001b[1;33m\u001b[0m\u001b[1;33m\u001b[0m\u001b[0m\n\u001b[1;32m----> 2\u001b[1;33m stylized_image = hub_module(tf.image.convert_image_dtype(content_image, tf.float32), \n\u001b[0m\u001b[0;32m      3\u001b[0m                             tf.image.convert_image_dtype(style_image, tf.float32))[0]\n\u001b[0;32m      4\u001b[0m \u001b[1;33m\u001b[0m\u001b[0m\n\u001b[0;32m      5\u001b[0m \u001b[1;31m# convert the tensor to image\u001b[0m\u001b[1;33m\u001b[0m\u001b[1;33m\u001b[0m\u001b[1;33m\u001b[0m\u001b[0m\n",
      "\u001b[1;31mNameError\u001b[0m: name 'hub_module' is not defined"
     ]
    }
   ],
   "source": [
    "# stylize the image using the model you just downloaded\n",
    "stylized_image = hub_module(tf.image.convert_image_dtype(content_image, tf.float32), \n",
    "                            tf.image.convert_image_dtype(style_image, tf.float32))[0]\n",
    "\n",
    "# convert the tensor to image\n",
    "tensor_to_image(stylized_image)"
   ]
  },
  {
   "cell_type": "code",
   "execution_count": null,
   "metadata": {},
   "outputs": [],
   "source": []
  }
 ],
 "metadata": {
  "accelerator": "GPU",
  "colab": {
   "collapsed_sections": [],
   "name": "Copy of C4_W1_Lab_2_Fast_NST.ipynb",
   "provenance": []
  },
  "kernelspec": {
   "display_name": "Python 3",
   "language": "python",
   "name": "python3"
  },
  "language_info": {
   "codemirror_mode": {
    "name": "ipython",
    "version": 3
   },
   "file_extension": ".py",
   "mimetype": "text/x-python",
   "name": "python",
   "nbconvert_exporter": "python",
   "pygments_lexer": "ipython3",
   "version": "3.7.4"
  }
 },
 "nbformat": 4,
 "nbformat_minor": 1
}
